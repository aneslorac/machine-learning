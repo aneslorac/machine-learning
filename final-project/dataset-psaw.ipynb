{
 "cells": [
  {
   "cell_type": "code",
   "execution_count": 9,
   "metadata": {},
   "outputs": [],
   "source": [
    "import praw\n",
    "from psaw import PushshiftAPI\n",
    "import pandas as pd\n",
    "import datetime as dt"
   ]
  },
  {
   "cell_type": "code",
   "execution_count": 10,
   "metadata": {},
   "outputs": [
    {
     "name": "stdout",
     "output_type": "stream",
     "text": [
      "after: 2019-01-01 00:00:00, before: 2020-02-01 00:00:00\n"
     ]
    },
    {
     "name": "stderr",
     "output_type": "stream",
     "text": [
      "/home/carolps/.local/lib/python3.8/site-packages/psaw/PushshiftAPI.py:252: UserWarning: Not all PushShift shards are active. Query results may be incomplete\n",
      "  warnings.warn(shards_down_message)\n"
     ]
    },
    {
     "name": "stdout",
     "output_type": "stream",
     "text": [
      "                                               title      id    subreddit  \\\n",
      "0  I finally got the courage to have my abusive d...  alwssb  i.imgur.com   \n",
      "1  I overcame a big impediment today and am so ex...  alwcys   self.happy   \n",
      "2  One of my young adult sons worked hard, saved ...  alw8x7    i.redd.it   \n",
      "3  I wanted to share a really happy surprise with...  alw5kp   self.happy   \n",
      "4                        Had a happy surprise today!  alw1jo   self.happy   \n",
      "\n",
      "                                                body          class  \n",
      "0                                                NaN  non-depressed  \n",
      "1  Hey guys what a lovely community you have here...  non-depressed  \n",
      "2                                                NaN  non-depressed  \n",
      "3  Hey guys what a lovely community you have here...  non-depressed  \n",
      "4                                          [removed]  non-depressed  \n",
      "after: 2019-02-01 00:00:00, before: 2020-03-01 00:00:00\n"
     ]
    },
    {
     "name": "stderr",
     "output_type": "stream",
     "text": [
      "/home/carolps/.local/lib/python3.8/site-packages/psaw/PushshiftAPI.py:252: UserWarning: Not all PushShift shards are active. Query results may be incomplete\n",
      "  warnings.warn(shards_down_message)\n"
     ]
    },
    {
     "name": "stdout",
     "output_type": "stream",
     "text": [
      "                                               title      id    subreddit  \\\n",
      "0  I finally got the courage to have my abusive d...  alwssb  i.imgur.com   \n",
      "1  I overcame a big impediment today and am so ex...  alwcys   self.happy   \n",
      "2  One of my young adult sons worked hard, saved ...  alw8x7    i.redd.it   \n",
      "3  I wanted to share a really happy surprise with...  alw5kp   self.happy   \n",
      "4                        Had a happy surprise today!  alw1jo   self.happy   \n",
      "\n",
      "                                                body          class  \n",
      "0                                                NaN  non-depressed  \n",
      "1  Hey guys what a lovely community you have here...  non-depressed  \n",
      "2                                                NaN  non-depressed  \n",
      "3  Hey guys what a lovely community you have here...  non-depressed  \n",
      "4                                          [removed]  non-depressed  \n",
      "after: 2019-03-01 00:00:00, before: 2020-04-01 00:00:00\n"
     ]
    },
    {
     "name": "stderr",
     "output_type": "stream",
     "text": [
      "/home/carolps/.local/lib/python3.8/site-packages/psaw/PushshiftAPI.py:252: UserWarning: Not all PushShift shards are active. Query results may be incomplete\n",
      "  warnings.warn(shards_down_message)\n"
     ]
    },
    {
     "name": "stdout",
     "output_type": "stream",
     "text": [
      "                                               title      id    subreddit  \\\n",
      "0  I finally got the courage to have my abusive d...  alwssb  i.imgur.com   \n",
      "1  I overcame a big impediment today and am so ex...  alwcys   self.happy   \n",
      "2  One of my young adult sons worked hard, saved ...  alw8x7    i.redd.it   \n",
      "3  I wanted to share a really happy surprise with...  alw5kp   self.happy   \n",
      "4                        Had a happy surprise today!  alw1jo   self.happy   \n",
      "\n",
      "                                                body          class  \n",
      "0                                                NaN  non-depressed  \n",
      "1  Hey guys what a lovely community you have here...  non-depressed  \n",
      "2                                                NaN  non-depressed  \n",
      "3  Hey guys what a lovely community you have here...  non-depressed  \n",
      "4                                          [removed]  non-depressed  \n",
      "after: 2019-04-01 00:00:00, before: 2020-05-01 00:00:00\n"
     ]
    },
    {
     "name": "stderr",
     "output_type": "stream",
     "text": [
      "/home/carolps/.local/lib/python3.8/site-packages/psaw/PushshiftAPI.py:252: UserWarning: Not all PushShift shards are active. Query results may be incomplete\n",
      "  warnings.warn(shards_down_message)\n"
     ]
    },
    {
     "name": "stdout",
     "output_type": "stream",
     "text": [
      "                                               title      id    subreddit  \\\n",
      "0  I finally got the courage to have my abusive d...  alwssb  i.imgur.com   \n",
      "1  I overcame a big impediment today and am so ex...  alwcys   self.happy   \n",
      "2  One of my young adult sons worked hard, saved ...  alw8x7    i.redd.it   \n",
      "3  I wanted to share a really happy surprise with...  alw5kp   self.happy   \n",
      "4                        Had a happy surprise today!  alw1jo   self.happy   \n",
      "\n",
      "                                                body          class  \n",
      "0                                                NaN  non-depressed  \n",
      "1  Hey guys what a lovely community you have here...  non-depressed  \n",
      "2                                                NaN  non-depressed  \n",
      "3  Hey guys what a lovely community you have here...  non-depressed  \n",
      "4                                          [removed]  non-depressed  \n",
      "after: 2019-05-01 00:00:00, before: 2020-06-01 00:00:00\n"
     ]
    },
    {
     "name": "stderr",
     "output_type": "stream",
     "text": [
      "/home/carolps/.local/lib/python3.8/site-packages/psaw/PushshiftAPI.py:252: UserWarning: Not all PushShift shards are active. Query results may be incomplete\n",
      "  warnings.warn(shards_down_message)\n"
     ]
    },
    {
     "name": "stdout",
     "output_type": "stream",
     "text": [
      "                                               title      id    subreddit  \\\n",
      "0  I finally got the courage to have my abusive d...  alwssb  i.imgur.com   \n",
      "1  I overcame a big impediment today and am so ex...  alwcys   self.happy   \n",
      "2  One of my young adult sons worked hard, saved ...  alw8x7    i.redd.it   \n",
      "3  I wanted to share a really happy surprise with...  alw5kp   self.happy   \n",
      "4                        Had a happy surprise today!  alw1jo   self.happy   \n",
      "\n",
      "                                                body          class  \n",
      "0                                                NaN  non-depressed  \n",
      "1  Hey guys what a lovely community you have here...  non-depressed  \n",
      "2                                                NaN  non-depressed  \n",
      "3  Hey guys what a lovely community you have here...  non-depressed  \n",
      "4                                          [removed]  non-depressed  \n",
      "after: 2019-06-01 00:00:00, before: 2020-07-01 00:00:00\n"
     ]
    },
    {
     "name": "stderr",
     "output_type": "stream",
     "text": [
      "/home/carolps/.local/lib/python3.8/site-packages/psaw/PushshiftAPI.py:252: UserWarning: Not all PushShift shards are active. Query results may be incomplete\n",
      "  warnings.warn(shards_down_message)\n"
     ]
    },
    {
     "name": "stdout",
     "output_type": "stream",
     "text": [
      "                                               title      id    subreddit  \\\n",
      "0  I finally got the courage to have my abusive d...  alwssb  i.imgur.com   \n",
      "1  I overcame a big impediment today and am so ex...  alwcys   self.happy   \n",
      "2  One of my young adult sons worked hard, saved ...  alw8x7    i.redd.it   \n",
      "3  I wanted to share a really happy surprise with...  alw5kp   self.happy   \n",
      "4                        Had a happy surprise today!  alw1jo   self.happy   \n",
      "\n",
      "                                                body          class  \n",
      "0                                                NaN  non-depressed  \n",
      "1  Hey guys what a lovely community you have here...  non-depressed  \n",
      "2                                                NaN  non-depressed  \n",
      "3  Hey guys what a lovely community you have here...  non-depressed  \n",
      "4                                          [removed]  non-depressed  \n",
      "after: 2019-07-01 00:00:00, before: 2020-08-01 00:00:00\n"
     ]
    },
    {
     "name": "stderr",
     "output_type": "stream",
     "text": [
      "/home/carolps/.local/lib/python3.8/site-packages/psaw/PushshiftAPI.py:252: UserWarning: Not all PushShift shards are active. Query results may be incomplete\n",
      "  warnings.warn(shards_down_message)\n"
     ]
    },
    {
     "name": "stdout",
     "output_type": "stream",
     "text": [
      "                                               title      id    subreddit  \\\n",
      "0  I finally got the courage to have my abusive d...  alwssb  i.imgur.com   \n",
      "1  I overcame a big impediment today and am so ex...  alwcys   self.happy   \n",
      "2  One of my young adult sons worked hard, saved ...  alw8x7    i.redd.it   \n",
      "3  I wanted to share a really happy surprise with...  alw5kp   self.happy   \n",
      "4                        Had a happy surprise today!  alw1jo   self.happy   \n",
      "\n",
      "                                                body          class  \n",
      "0                                                NaN  non-depressed  \n",
      "1  Hey guys what a lovely community you have here...  non-depressed  \n",
      "2                                                NaN  non-depressed  \n",
      "3  Hey guys what a lovely community you have here...  non-depressed  \n",
      "4                                          [removed]  non-depressed  \n",
      "after: 2019-08-01 00:00:00, before: 2020-09-01 00:00:00\n"
     ]
    },
    {
     "name": "stderr",
     "output_type": "stream",
     "text": [
      "/home/carolps/.local/lib/python3.8/site-packages/psaw/PushshiftAPI.py:252: UserWarning: Not all PushShift shards are active. Query results may be incomplete\n",
      "  warnings.warn(shards_down_message)\n"
     ]
    },
    {
     "name": "stdout",
     "output_type": "stream",
     "text": [
      "                                               title      id    subreddit  \\\n",
      "0  I finally got the courage to have my abusive d...  alwssb  i.imgur.com   \n",
      "1  I overcame a big impediment today and am so ex...  alwcys   self.happy   \n",
      "2  One of my young adult sons worked hard, saved ...  alw8x7    i.redd.it   \n",
      "3  I wanted to share a really happy surprise with...  alw5kp   self.happy   \n",
      "4                        Had a happy surprise today!  alw1jo   self.happy   \n",
      "\n",
      "                                                body          class  \n",
      "0                                                NaN  non-depressed  \n",
      "1  Hey guys what a lovely community you have here...  non-depressed  \n",
      "2                                                NaN  non-depressed  \n",
      "3  Hey guys what a lovely community you have here...  non-depressed  \n",
      "4                                          [removed]  non-depressed  \n",
      "after: 2019-09-01 00:00:00, before: 2020-10-01 00:00:00\n"
     ]
    },
    {
     "name": "stderr",
     "output_type": "stream",
     "text": [
      "/home/carolps/.local/lib/python3.8/site-packages/psaw/PushshiftAPI.py:192: UserWarning: Got non 200 code 429\n",
      "  warnings.warn(\"Got non 200 code %s\" % response.status_code)\n",
      "/home/carolps/.local/lib/python3.8/site-packages/psaw/PushshiftAPI.py:180: UserWarning: Unable to connect to pushshift.io. Retrying after backoff.\n",
      "  warnings.warn(\"Unable to connect to pushshift.io. Retrying after backoff.\")\n",
      "/home/carolps/.local/lib/python3.8/site-packages/psaw/PushshiftAPI.py:252: UserWarning: Not all PushShift shards are active. Query results may be incomplete\n",
      "  warnings.warn(shards_down_message)\n"
     ]
    },
    {
     "name": "stdout",
     "output_type": "stream",
     "text": [
      "                                               title      id    subreddit  \\\n",
      "0  I finally got the courage to have my abusive d...  alwssb  i.imgur.com   \n",
      "1  I overcame a big impediment today and am so ex...  alwcys   self.happy   \n",
      "2  One of my young adult sons worked hard, saved ...  alw8x7    i.redd.it   \n",
      "3  I wanted to share a really happy surprise with...  alw5kp   self.happy   \n",
      "4                        Had a happy surprise today!  alw1jo   self.happy   \n",
      "\n",
      "                                                body          class  \n",
      "0                                                NaN  non-depressed  \n",
      "1  Hey guys what a lovely community you have here...  non-depressed  \n",
      "2                                                NaN  non-depressed  \n",
      "3  Hey guys what a lovely community you have here...  non-depressed  \n",
      "4                                          [removed]  non-depressed  \n",
      "after: 2019-10-01 00:00:00, before: 2020-11-01 00:00:00\n"
     ]
    },
    {
     "name": "stderr",
     "output_type": "stream",
     "text": [
      "/home/carolps/.local/lib/python3.8/site-packages/psaw/PushshiftAPI.py:252: UserWarning: Not all PushShift shards are active. Query results may be incomplete\n",
      "  warnings.warn(shards_down_message)\n"
     ]
    },
    {
     "name": "stdout",
     "output_type": "stream",
     "text": [
      "                                               title      id    subreddit  \\\n",
      "0  I finally got the courage to have my abusive d...  alwssb  i.imgur.com   \n",
      "1  I overcame a big impediment today and am so ex...  alwcys   self.happy   \n",
      "2  One of my young adult sons worked hard, saved ...  alw8x7    i.redd.it   \n",
      "3  I wanted to share a really happy surprise with...  alw5kp   self.happy   \n",
      "4                        Had a happy surprise today!  alw1jo   self.happy   \n",
      "\n",
      "                                                body          class  \n",
      "0                                                NaN  non-depressed  \n",
      "1  Hey guys what a lovely community you have here...  non-depressed  \n",
      "2                                                NaN  non-depressed  \n",
      "3  Hey guys what a lovely community you have here...  non-depressed  \n",
      "4                                          [removed]  non-depressed  \n",
      "after: 2019-11-01 00:00:00, before: 2020-12-01 00:00:00\n"
     ]
    },
    {
     "name": "stderr",
     "output_type": "stream",
     "text": [
      "/home/carolps/.local/lib/python3.8/site-packages/psaw/PushshiftAPI.py:252: UserWarning: Not all PushShift shards are active. Query results may be incomplete\n",
      "  warnings.warn(shards_down_message)\n"
     ]
    },
    {
     "name": "stdout",
     "output_type": "stream",
     "text": [
      "                                               title      id    subreddit  \\\n",
      "0  I finally got the courage to have my abusive d...  alwssb  i.imgur.com   \n",
      "1  I overcame a big impediment today and am so ex...  alwcys   self.happy   \n",
      "2  One of my young adult sons worked hard, saved ...  alw8x7    i.redd.it   \n",
      "3  I wanted to share a really happy surprise with...  alw5kp   self.happy   \n",
      "4                        Had a happy surprise today!  alw1jo   self.happy   \n",
      "\n",
      "                                                body          class  \n",
      "0                                                NaN  non-depressed  \n",
      "1  Hey guys what a lovely community you have here...  non-depressed  \n",
      "2                                                NaN  non-depressed  \n",
      "3  Hey guys what a lovely community you have here...  non-depressed  \n",
      "4                                          [removed]  non-depressed  \n"
     ]
    }
   ],
   "source": [
    "api = PushshiftAPI()\n",
    "\n",
    "year = 2019\n",
    "\n",
    "posts = []\n",
    "\n",
    "for i in range(1, 12):\n",
    "\n",
    "    ts_after = int(dt.datetime(year, i, 1).timestamp())\n",
    "    ts_before = int(dt.datetime(year, i+1, 1).timestamp())\n",
    "\n",
    "    print('after: {}, before: {}'.format(dt.datetime(year, i, 1), dt.datetime(year+1, i+1, 1)))\n",
    "\n",
    "\n",
    "    gen = api.search_submissions(\n",
    "        after=ts_after,\n",
    "        before=ts_before,\n",
    "        filter=['selftext', 'title', 'id', 'domain'],\n",
    "        subreddit='happy'\n",
    "    )\n",
    "\n",
    "    for post in gen:\n",
    "\n",
    "        '''submission_id = submission_psaw.d_['id']\n",
    "        print(submission_psaw)\n",
    "\n",
    "        selftext'''\n",
    "\n",
    "        if ('selftext' in post.d_.keys()):\n",
    "\n",
    "            posts.append([post.d_['title'], post.d_['id'], post.d_['domain'], post.d_['selftext'], 'non-depressed'])\n",
    "            print(len(posts), end='\\r')\n",
    "        \n",
    "    df = pd.DataFrame(posts,columns=['title', 'id', 'subreddit', 'body', 'class'])\n",
    "    df.to_csv('happy{}{}.csv'.format(i, year), index=False)\n",
    "    df = pd.read_csv('happy{}{}.csv'.format(i, year))\n",
    "    print(df.head())\n",
    "\n",
    "    count = 0"
   ]
  },
  {
   "cell_type": "code",
   "execution_count": null,
   "metadata": {},
   "outputs": [],
   "source": []
  }
 ],
 "metadata": {
  "kernelspec": {
   "display_name": "Python 3.8.10 64-bit",
   "language": "python",
   "name": "python3"
  },
  "language_info": {
   "codemirror_mode": {
    "name": "ipython",
    "version": 3
   },
   "file_extension": ".py",
   "mimetype": "text/x-python",
   "name": "python",
   "nbconvert_exporter": "python",
   "pygments_lexer": "ipython3",
   "version": "3.8.10"
  },
  "orig_nbformat": 4,
  "vscode": {
   "interpreter": {
    "hash": "916dbcbb3f70747c44a77c7bcd40155683ae19c65e1c03b4aa3499c5328201f1"
   }
  }
 },
 "nbformat": 4,
 "nbformat_minor": 2
}
