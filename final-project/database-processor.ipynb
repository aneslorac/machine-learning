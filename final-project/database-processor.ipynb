{
 "cells": [
  {
   "cell_type": "code",
   "execution_count": 1,
   "metadata": {},
   "outputs": [],
   "source": [
    "import numpy as np\n",
    "import pandas as pd\n",
    "import glob\n",
    "import os\n",
    "import seaborn as sns"
   ]
  },
  {
   "cell_type": "code",
   "execution_count": 2,
   "metadata": {},
   "outputs": [],
   "source": [
    "def get_whole_dataset(path):\n",
    "    all_filenames = [i for i in glob.glob(os.path.join(path, \"*.csv\"))]\n",
    "    df_from_each_file = [pd.read_csv(f) for f in all_filenames]\n",
    "    return pd.concat(df_from_each_file, axis=0, ignore_index = True)"
   ]
  },
  {
   "cell_type": "code",
   "execution_count": 3,
   "metadata": {},
   "outputs": [
    {
     "data": {
      "text/html": [
       "<div>\n",
       "<style scoped>\n",
       "    .dataframe tbody tr th:only-of-type {\n",
       "        vertical-align: middle;\n",
       "    }\n",
       "\n",
       "    .dataframe tbody tr th {\n",
       "        vertical-align: top;\n",
       "    }\n",
       "\n",
       "    .dataframe thead th {\n",
       "        text-align: right;\n",
       "    }\n",
       "</style>\n",
       "<table border=\"1\" class=\"dataframe\">\n",
       "  <thead>\n",
       "    <tr style=\"text-align: right;\">\n",
       "      <th></th>\n",
       "      <th>title</th>\n",
       "      <th>id</th>\n",
       "      <th>subreddit</th>\n",
       "      <th>body</th>\n",
       "      <th>class</th>\n",
       "    </tr>\n",
       "  </thead>\n",
       "  <tbody>\n",
       "    <tr>\n",
       "      <th>0</th>\n",
       "      <td>hhhhhhh</td>\n",
       "      <td>l9snx9</td>\n",
       "      <td>i.redd.it</td>\n",
       "      <td>NaN</td>\n",
       "      <td>non-depressed</td>\n",
       "    </tr>\n",
       "    <tr>\n",
       "      <th>1</th>\n",
       "      <td>I am practicing balloon art and this is my fir...</td>\n",
       "      <td>l9saww</td>\n",
       "      <td>i.redd.it</td>\n",
       "      <td>[deleted]</td>\n",
       "      <td>non-depressed</td>\n",
       "    </tr>\n",
       "    <tr>\n",
       "      <th>2</th>\n",
       "      <td>i’ve never been allowed to buy my own clothes ...</td>\n",
       "      <td>l9qzk1</td>\n",
       "      <td>i.redd.it</td>\n",
       "      <td>NaN</td>\n",
       "      <td>non-depressed</td>\n",
       "    </tr>\n",
       "    <tr>\n",
       "      <th>3</th>\n",
       "      <td>I launched gourmet cupcakes on my website toda...</td>\n",
       "      <td>l9qdfl</td>\n",
       "      <td>i.redd.it</td>\n",
       "      <td>[deleted]</td>\n",
       "      <td>non-depressed</td>\n",
       "    </tr>\n",
       "    <tr>\n",
       "      <th>4</th>\n",
       "      <td>Sometimes life knocks you down, people down on...</td>\n",
       "      <td>l9q1ls</td>\n",
       "      <td>i.redd.it</td>\n",
       "      <td>NaN</td>\n",
       "      <td>non-depressed</td>\n",
       "    </tr>\n",
       "  </tbody>\n",
       "</table>\n",
       "</div>"
      ],
      "text/plain": [
       "                                               title      id  subreddit  \\\n",
       "0                                            hhhhhhh  l9snx9  i.redd.it   \n",
       "1  I am practicing balloon art and this is my fir...  l9saww  i.redd.it   \n",
       "2  i’ve never been allowed to buy my own clothes ...  l9qzk1  i.redd.it   \n",
       "3  I launched gourmet cupcakes on my website toda...  l9qdfl  i.redd.it   \n",
       "4  Sometimes life knocks you down, people down on...  l9q1ls  i.redd.it   \n",
       "\n",
       "        body          class  \n",
       "0        NaN  non-depressed  \n",
       "1  [deleted]  non-depressed  \n",
       "2        NaN  non-depressed  \n",
       "3  [deleted]  non-depressed  \n",
       "4        NaN  non-depressed  "
      ]
     },
     "execution_count": 3,
     "metadata": {},
     "output_type": "execute_result"
    }
   ],
   "source": [
    "df = get_whole_dataset('.')\n",
    "df.head()"
   ]
  },
  {
   "cell_type": "code",
   "execution_count": 4,
   "metadata": {},
   "outputs": [
    {
     "data": {
      "text/plain": [
       "(1584890, 5)"
      ]
     },
     "execution_count": 4,
     "metadata": {},
     "output_type": "execute_result"
    }
   ],
   "source": [
    "df.shape"
   ]
  },
  {
   "cell_type": "code",
   "execution_count": 5,
   "metadata": {},
   "outputs": [
    {
     "data": {
      "text/plain": [
       "(426792, 5)"
      ]
     },
     "execution_count": 5,
     "metadata": {},
     "output_type": "execute_result"
    }
   ],
   "source": [
    "df_2 = df[df['body'].str.len() <= 200]\n",
    "df_2.shape"
   ]
  },
  {
   "cell_type": "code",
   "execution_count": 6,
   "metadata": {},
   "outputs": [
    {
     "name": "stdout",
     "output_type": "stream",
     "text": [
      "                                                     title      id  \\\n",
      "9        Forehead kisses from my girlfriend is the best...  l9mb7z   \n",
      "75       Made a new friend on reddit last month, and it...  l7ley8   \n",
      "76             [OC] I make webcomics to make people happy!  l7h2b8   \n",
      "79       I had to do a short presentation to my company...  l7gy2j   \n",
      "108      After this video I will not look at life the s...  l6ecsm   \n",
      "...                                                    ...     ...   \n",
      "1584857                           I feel like I'm an idiot  mhn7ip   \n",
      "1584870                                            Been up  mhmut1   \n",
      "1584878  I second guess and ruin everything that could ...  mhmjll   \n",
      "1584879  I’ve heard that people use hostages to commit ...  mhmjfm   \n",
      "1584886                  What is there to look forward to?  mhmbvv   \n",
      "\n",
      "               subreddit                                               body  \\\n",
      "9             self.happy         Hope y'all get to enjoy this from someone.   \n",
      "75            self.happy  I started talking to someone on reddit off of ...   \n",
      "76            self.happy  &amp;#x200B;\\n\\n*Processing img fpkag9e4r6e61...*   \n",
      "79            self.happy  I felt controlled and confident. After it was ...   \n",
      "108           self.happy   [https://www.youtube.com/watch?v=h5-653h3Lek]...   \n",
      "...                  ...                                                ...   \n",
      "1584857  self.depression  People act like I'm and idiot and that I dont ...   \n",
      "1584870  self.depression  For over 48 hours. \\n\\nFucked from every angle...   \n",
      "1584878  self.depression  It's just a neverending cycle of finding somet...   \n",
      "1584879  self.depression  Like people will pretend to rob a gas station ...   \n",
      "1584886  self.depression  Why does it seem life is set, and there's very...   \n",
      "\n",
      "                 class  \n",
      "9        non-depressed  \n",
      "75       non-depressed  \n",
      "76       non-depressed  \n",
      "79       non-depressed  \n",
      "108      non-depressed  \n",
      "...                ...  \n",
      "1584857      depressed  \n",
      "1584870      depressed  \n",
      "1584878      depressed  \n",
      "1584879      depressed  \n",
      "1584886      depressed  \n",
      "\n",
      "[163322 rows x 5 columns]\n"
     ]
    }
   ],
   "source": [
    "from numpy import NaN\n",
    "\n",
    "\n",
    "#df_3 = df_2.drop(df_2[(df_2['body'].str == '\\[removed\\]') | (df_2['body'] == NaN) | (df_2['body'].str == '\\[deleted\\]')].index)\n",
    "df_3 = df_2.drop(df_2[(df_2['body'].str.contains('\\[removed\\]') == True) | (df_2['body'].str.contains('\\[deleted\\]') == True)].index)\n",
    "df_3 = df_3.drop(df_2[df_2['body'] == NaN].index)\n",
    "print(df_3)"
   ]
  },
  {
   "cell_type": "code",
   "execution_count": 7,
   "metadata": {},
   "outputs": [
    {
     "data": {
      "text/plain": [
       "\"df_2 = pd.DataFrame({'subreddit':['happy', 'depressed'], 'Count':[len(df_2.loc[df['subreddit'] == 'self.happy']),len(df_2.loc[df['subreddit'] == 'self.depression'])]})\\nax = df_2.plot.bar(x='subreddit', y='Count',rot=0)\""
      ]
     },
     "execution_count": 7,
     "metadata": {},
     "output_type": "execute_result"
    }
   ],
   "source": [
    "'''df_2 = pd.DataFrame({'subreddit':['happy', 'depressed'], 'Count':[len(df_2.loc[df['subreddit'] == 'self.happy']),len(df_2.loc[df['subreddit'] == 'self.depression'])]})\n",
    "ax = df_2.plot.bar(x='subreddit', y='Count',rot=0)'''"
   ]
  },
  {
   "cell_type": "code",
   "execution_count": 8,
   "metadata": {},
   "outputs": [
    {
     "name": "stderr",
     "output_type": "stream",
     "text": [
      "/home/carolps/.local/lib/python3.8/site-packages/seaborn/_decorators.py:36: FutureWarning: Pass the following variable as a keyword arg: x. From version 0.12, the only valid positional argument will be `data`, and passing other arguments without an explicit keyword will result in an error or misinterpretation.\n",
      "  warnings.warn(\n"
     ]
    },
    {
     "data": {
      "text/plain": [
       "<AxesSubplot:xlabel='class', ylabel='count'>"
      ]
     },
     "execution_count": 8,
     "metadata": {},
     "output_type": "execute_result"
    },
    {
     "data": {
      "image/png": "[encoded data removed]",
      "text/plain": [
       "<Figure size 432x288 with 1 Axes>"
      ]
     },
     "metadata": {
      "needs_background": "light"
     },
     "output_type": "display_data"
    }
   ],
   "source": [
    "sns.countplot(df_3['class'])"
   ]
  },
  {
   "cell_type": "code",
   "execution_count": 9,
   "metadata": {},
   "outputs": [
    {
     "data": {
      "text/html": [
       "<div>\n",
       "<style scoped>\n",
       "    .dataframe tbody tr th:only-of-type {\n",
       "        vertical-align: middle;\n",
       "    }\n",
       "\n",
       "    .dataframe tbody tr th {\n",
       "        vertical-align: top;\n",
       "    }\n",
       "\n",
       "    .dataframe thead th {\n",
       "        text-align: right;\n",
       "    }\n",
       "</style>\n",
       "<table border=\"1\" class=\"dataframe\">\n",
       "  <thead>\n",
       "    <tr style=\"text-align: right;\">\n",
       "      <th></th>\n",
       "      <th>class</th>\n",
       "    </tr>\n",
       "  </thead>\n",
       "  <tbody>\n",
       "    <tr>\n",
       "      <th>depressed</th>\n",
       "      <td>146812</td>\n",
       "    </tr>\n",
       "    <tr>\n",
       "      <th>non-depressed</th>\n",
       "      <td>16510</td>\n",
       "    </tr>\n",
       "  </tbody>\n",
       "</table>\n",
       "</div>"
      ],
      "text/plain": [
       "                class\n",
       "depressed      146812\n",
       "non-depressed   16510"
      ]
     },
     "execution_count": 9,
     "metadata": {},
     "output_type": "execute_result"
    }
   ],
   "source": [
    "df_3[\"class\"].value_counts().to_frame()"
   ]
  },
  {
   "cell_type": "code",
   "execution_count": 10,
   "metadata": {},
   "outputs": [
    {
     "data": {
      "text/html": [
       "<div>\n",
       "<style scoped>\n",
       "    .dataframe tbody tr th:only-of-type {\n",
       "        vertical-align: middle;\n",
       "    }\n",
       "\n",
       "    .dataframe tbody tr th {\n",
       "        vertical-align: top;\n",
       "    }\n",
       "\n",
       "    .dataframe thead th {\n",
       "        text-align: right;\n",
       "    }\n",
       "</style>\n",
       "<table border=\"1\" class=\"dataframe\">\n",
       "  <thead>\n",
       "    <tr style=\"text-align: right;\">\n",
       "      <th></th>\n",
       "      <th>class</th>\n",
       "    </tr>\n",
       "  </thead>\n",
       "  <tbody>\n",
       "    <tr>\n",
       "      <th>depressed</th>\n",
       "      <td>81661</td>\n",
       "    </tr>\n",
       "    <tr>\n",
       "      <th>non-depressed</th>\n",
       "      <td>16510</td>\n",
       "    </tr>\n",
       "  </tbody>\n",
       "</table>\n",
       "</div>"
      ],
      "text/plain": [
       "               class\n",
       "depressed      81661\n",
       "non-depressed  16510"
      ]
     },
     "execution_count": 10,
     "metadata": {},
     "output_type": "execute_result"
    }
   ],
   "source": [
    "exceded = df_3[df_3['class'] == 'depressed'].sample(65151)\n",
    "data = df_3[~df_3.index.isin(exceded.index)]\n",
    "data[\"class\"].value_counts().to_frame()"
   ]
  },
  {
   "cell_type": "code",
   "execution_count": 11,
   "metadata": {},
   "outputs": [],
   "source": [
    "data.to_csv('dataset-final.csv', index=False)"
   ]
  }
 ],
 "metadata": {
  "kernelspec": {
   "display_name": "Python 3.8.10 64-bit",
   "language": "python",
   "name": "python3"
  },
  "language_info": {
   "codemirror_mode": {
    "name": "ipython",
    "version": 3
   },
   "file_extension": ".py",
   "mimetype": "text/x-python",
   "name": "python",
   "nbconvert_exporter": "python",
   "pygments_lexer": "ipython3",
   "version": "3.8.10"
  },
  "orig_nbformat": 4,
  "vscode": {
   "interpreter": {
    "hash": "916dbcbb3f70747c44a77c7bcd40155683ae19c65e1c03b4aa3499c5328201f1"
   }
  }
 },
 "nbformat": 4,
 "nbformat_minor": 2
}
