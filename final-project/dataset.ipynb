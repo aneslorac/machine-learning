{
 "cells": [
  {
   "cell_type": "code",
   "execution_count": 24,
   "metadata": {},
   "outputs": [],
   "source": [
    "import praw\n",
    "from psaw import PushshiftAPI\n",
    "import pandas as pd\n",
    "import datetime as dt"
   ]
  },
  {
   "cell_type": "code",
   "execution_count": 27,
   "metadata": {},
   "outputs": [],
   "source": [
    "reddit = praw.Reddit(client_id='pXy7bGzZ7Xzb0lwKqLy3-Q', client_secret='GSztZmmYaLeKeu_yAFfXqEulSdCcBQ', user_agent='depscrapper')"
   ]
  },
  {
   "cell_type": "code",
   "execution_count": 29,
   "metadata": {},
   "outputs": [],
   "source": [
    "posts = []\n",
    "hot_posts = reddit.subreddit('depression').hot(limit=1000)\n",
    "for post in hot_posts:\n",
    "    posts.append([post.title, post.id, post.subreddit, post.selftext, 'depressed'])\n",
    "    \n",
    "posts = pd.DataFrame(posts,columns=['title', 'id', 'subreddit', 'body', 'class'])\n",
    "posts.to_csv('depression1.csv', index=False)"
   ]
  },
  {
   "cell_type": "code",
   "execution_count": 33,
   "metadata": {},
   "outputs": [
    {
     "data": {
      "text/plain": [
       "\"ts_after = int(dt.datetime(year, 1, 1).timestamp())\\nts_before = int(dt.datetime(year+1, 1, 1).timestamp())\\n\\nprint('after: {}, before: {}'.format(dt.datetime(year, 1, 1), dt.datetime(year+1, 1, 1)))\\n\\n\\ngen = api.search_submissions(\\n    after=ts_after,\\n    before=ts_before,\\n    filter=['id'],\\n    subreddit='depression'\\n)\\n\\nprint(gen)\""
      ]
     },
     "execution_count": 33,
     "metadata": {},
     "output_type": "execute_result"
    }
   ],
   "source": [
    "api = PushshiftAPI()\n",
    "\n",
    "year = 2020\n",
    "\n",
    "'''ts_after = int(dt.datetime(year, 1, 1).timestamp())\n",
    "ts_before = int(dt.datetime(year+1, 1, 1).timestamp())\n",
    "\n",
    "print('after: {}, before: {}'.format(dt.datetime(year, 1, 1), dt.datetime(year+1, 1, 1)))\n",
    "\n",
    "\n",
    "gen = api.search_submissions(\n",
    "    after=ts_after,\n",
    "    before=ts_before,\n",
    "    filter=['id'],\n",
    "    subreddit='depression'\n",
    ")\n",
    "\n",
    "print(gen)'''"
   ]
  },
  {
   "cell_type": "code",
   "execution_count": 75,
   "metadata": {},
   "outputs": [
    {
     "name": "stdout",
     "output_type": "stream",
     "text": [
      "after: 2020-06-01 00:00:00, before: 2021-07-01 00:00:00\n"
     ]
    },
    {
     "name": "stderr",
     "output_type": "stream",
     "text": [
      "/home/carolps/.local/lib/python3.8/site-packages/psaw/PushshiftAPI.py:252: UserWarning: Not all PushShift shards are active. Query results may be incomplete\n",
      "  warnings.warn(shards_down_message)\n"
     ]
    },
    {
     "name": "stdout",
     "output_type": "stream",
     "text": [
      "15241\r"
     ]
    }
   ],
   "source": [
    "posts = []\n",
    "\n",
    "for i in range(6, 7):\n",
    "\n",
    "    ts_after = int(dt.datetime(year, i, 1).timestamp())\n",
    "    ts_before = int(dt.datetime(year, i+1, 1).timestamp())\n",
    "\n",
    "    print('after: {}, before: {}'.format(dt.datetime(year, i, 1), dt.datetime(year+1, i+1, 1)))\n",
    "\n",
    "\n",
    "    gen = api.search_submissions(\n",
    "        after=ts_after,\n",
    "        before=ts_before,\n",
    "        filter=['selftext', 'title', 'id', 'domain'],\n",
    "        subreddit='depression'\n",
    "    )\n",
    "\n",
    "\n",
    "    for post in gen:\n",
    "\n",
    "        '''submission_id = submission_psaw.d_['id']\n",
    "        print(submission_psaw)\n",
    "\n",
    "        selftext'''\n",
    "\n",
    "        if ('selftext' in post.d_.keys()):\n",
    "\n",
    "            posts.append([post.d_['title'], post.d_['id'], post.d_['domain'], post.d_['selftext'], 'depressed'])\n",
    "            print(len(posts), end='\\r')\n",
    "\n",
    "        '''post = reddit.submission(id=submission_id)\n",
    "        posts.append([post.title, post.id, post.subreddit, post.selftext, 'depressed'])\n",
    "\n",
    "        print(len(posts), end='\\r')'''\n",
    "\n",
    "        '''hot_posts = reddit.subreddit('depression').hot(before=1339696839,limit=1000)\n",
    "        for post in hot_posts:\n",
    "            posts.append([post.title, post.id, post.subreddit, post.selftext, 'depressed'])'''\n",
    "        \n",
    "    posts = pd.DataFrame(posts,columns=['title', 'id', 'subreddit', 'body', 'class'])\n",
    "    posts.to_csv('depression{}.csv'.format(i+1), index=False)\n",
    "    df = pd.read_csv('depression{}.csv'.format(i+1))\n",
    "    df.head()\n",
    "\n",
    "    count = 0"
   ]
  },
  {
   "cell_type": "code",
   "execution_count": 30,
   "metadata": {},
   "outputs": [
    {
     "data": {
      "text/html": [
       "<div>\n",
       "<style scoped>\n",
       "    .dataframe tbody tr th:only-of-type {\n",
       "        vertical-align: middle;\n",
       "    }\n",
       "\n",
       "    .dataframe tbody tr th {\n",
       "        vertical-align: top;\n",
       "    }\n",
       "\n",
       "    .dataframe thead th {\n",
       "        text-align: right;\n",
       "    }\n",
       "</style>\n",
       "<table border=\"1\" class=\"dataframe\">\n",
       "  <thead>\n",
       "    <tr style=\"text-align: right;\">\n",
       "      <th></th>\n",
       "      <th>title</th>\n",
       "      <th>id</th>\n",
       "      <th>subreddit</th>\n",
       "      <th>body</th>\n",
       "      <th>class</th>\n",
       "    </tr>\n",
       "  </thead>\n",
       "  <tbody>\n",
       "    <tr>\n",
       "      <th>0</th>\n",
       "      <td>Our most-broken and least-understood rules is ...</td>\n",
       "      <td>doqwow</td>\n",
       "      <td>depression</td>\n",
       "      <td>We understand that most people who reply immed...</td>\n",
       "      <td>depressed</td>\n",
       "    </tr>\n",
       "    <tr>\n",
       "      <th>1</th>\n",
       "      <td>Regular check-in post, with information about ...</td>\n",
       "      <td>tc5fpx</td>\n",
       "      <td>depression</td>\n",
       "      <td>Welcome to /r/depression's check-in post - a p...</td>\n",
       "      <td>depressed</td>\n",
       "    </tr>\n",
       "    <tr>\n",
       "      <th>2</th>\n",
       "      <td>I'm so tired of the yo-yoing.</td>\n",
       "      <td>vo5xgm</td>\n",
       "      <td>depression</td>\n",
       "      <td>I wish getting better was easier. My god. I ha...</td>\n",
       "      <td>depressed</td>\n",
       "    </tr>\n",
       "    <tr>\n",
       "      <th>3</th>\n",
       "      <td>Im not dead</td>\n",
       "      <td>vo9tod</td>\n",
       "      <td>depression</td>\n",
       "      <td>So a few days ago i made a super dramatic post...</td>\n",
       "      <td>depressed</td>\n",
       "    </tr>\n",
       "    <tr>\n",
       "      <th>4</th>\n",
       "      <td>RANT / With some people you just should never ...</td>\n",
       "      <td>voc327</td>\n",
       "      <td>depression</td>\n",
       "      <td>I suppose many here will relate. I am severly ...</td>\n",
       "      <td>depressed</td>\n",
       "    </tr>\n",
       "  </tbody>\n",
       "</table>\n",
       "</div>"
      ],
      "text/plain": [
       "                                               title      id   subreddit  \\\n",
       "0  Our most-broken and least-understood rules is ...  doqwow  depression   \n",
       "1  Regular check-in post, with information about ...  tc5fpx  depression   \n",
       "2                      I'm so tired of the yo-yoing.  vo5xgm  depression   \n",
       "3                                        Im not dead  vo9tod  depression   \n",
       "4  RANT / With some people you just should never ...  voc327  depression   \n",
       "\n",
       "                                                body      class  \n",
       "0  We understand that most people who reply immed...  depressed  \n",
       "1  Welcome to /r/depression's check-in post - a p...  depressed  \n",
       "2  I wish getting better was easier. My god. I ha...  depressed  \n",
       "3  So a few days ago i made a super dramatic post...  depressed  \n",
       "4  I suppose many here will relate. I am severly ...  depressed  "
      ]
     },
     "execution_count": 30,
     "metadata": {},
     "output_type": "execute_result"
    }
   ],
   "source": []
  },
  {
   "cell_type": "code",
   "execution_count": 31,
   "metadata": {},
   "outputs": [
    {
     "data": {
      "text/plain": [
       "(971, 5)"
      ]
     },
     "execution_count": 31,
     "metadata": {},
     "output_type": "execute_result"
    }
   ],
   "source": [
    "df.shape"
   ]
  },
  {
   "cell_type": "code",
   "execution_count": 32,
   "metadata": {},
   "outputs": [
    {
     "data": {
      "text/html": [
       "<div>\n",
       "<style scoped>\n",
       "    .dataframe tbody tr th:only-of-type {\n",
       "        vertical-align: middle;\n",
       "    }\n",
       "\n",
       "    .dataframe tbody tr th {\n",
       "        vertical-align: top;\n",
       "    }\n",
       "\n",
       "    .dataframe thead th {\n",
       "        text-align: right;\n",
       "    }\n",
       "</style>\n",
       "<table border=\"1\" class=\"dataframe\">\n",
       "  <thead>\n",
       "    <tr style=\"text-align: right;\">\n",
       "      <th></th>\n",
       "      <th>title</th>\n",
       "      <th>id</th>\n",
       "      <th>subreddit</th>\n",
       "      <th>body</th>\n",
       "      <th>class</th>\n",
       "    </tr>\n",
       "  </thead>\n",
       "  <tbody>\n",
       "    <tr>\n",
       "      <th>0</th>\n",
       "      <td>Our most-broken and least-understood rules is ...</td>\n",
       "      <td>doqwow</td>\n",
       "      <td>depression</td>\n",
       "      <td>We understand that most people who reply immed...</td>\n",
       "      <td>depressed</td>\n",
       "    </tr>\n",
       "    <tr>\n",
       "      <th>1</th>\n",
       "      <td>Regular check-in post, with information about ...</td>\n",
       "      <td>tc5fpx</td>\n",
       "      <td>depression</td>\n",
       "      <td>Welcome to /r/depression's check-in post - a p...</td>\n",
       "      <td>depressed</td>\n",
       "    </tr>\n",
       "    <tr>\n",
       "      <th>2</th>\n",
       "      <td>I'm so tired of the yo-yoing.</td>\n",
       "      <td>vo5xgm</td>\n",
       "      <td>depression</td>\n",
       "      <td>I wish getting better was easier. My god. I ha...</td>\n",
       "      <td>depressed</td>\n",
       "    </tr>\n",
       "    <tr>\n",
       "      <th>3</th>\n",
       "      <td>Im not dead</td>\n",
       "      <td>vo9tod</td>\n",
       "      <td>depression</td>\n",
       "      <td>So a few days ago i made a super dramatic post...</td>\n",
       "      <td>depressed</td>\n",
       "    </tr>\n",
       "    <tr>\n",
       "      <th>4</th>\n",
       "      <td>RANT / With some people you just should never ...</td>\n",
       "      <td>voc327</td>\n",
       "      <td>depression</td>\n",
       "      <td>I suppose many here will relate. I am severly ...</td>\n",
       "      <td>depressed</td>\n",
       "    </tr>\n",
       "    <tr>\n",
       "      <th>...</th>\n",
       "      <td>...</td>\n",
       "      <td>...</td>\n",
       "      <td>...</td>\n",
       "      <td>...</td>\n",
       "      <td>...</td>\n",
       "    </tr>\n",
       "    <tr>\n",
       "      <th>966</th>\n",
       "      <td>alcoholic now shits crazy</td>\n",
       "      <td>vm6st4</td>\n",
       "      <td>depression</td>\n",
       "      <td>I'm an alcoholic now I guess! I haven't been s...</td>\n",
       "      <td>depressed</td>\n",
       "    </tr>\n",
       "    <tr>\n",
       "      <th>967</th>\n",
       "      <td>I'm just so tired</td>\n",
       "      <td>vlqpe7</td>\n",
       "      <td>depression</td>\n",
       "      <td>Woke up and all I can do is cry. I'm dealing w...</td>\n",
       "      <td>depressed</td>\n",
       "    </tr>\n",
       "    <tr>\n",
       "      <th>968</th>\n",
       "      <td>My life is over.</td>\n",
       "      <td>vm1ze7</td>\n",
       "      <td>depression</td>\n",
       "      <td>failed school y'all. kill me.</td>\n",
       "      <td>depressed</td>\n",
       "    </tr>\n",
       "    <tr>\n",
       "      <th>969</th>\n",
       "      <td>I’m numb</td>\n",
       "      <td>vm1z1e</td>\n",
       "      <td>depression</td>\n",
       "      <td>About 36 hours ago I realized my mom doesn’t l...</td>\n",
       "      <td>depressed</td>\n",
       "    </tr>\n",
       "    <tr>\n",
       "      <th>970</th>\n",
       "      <td>TW: sewicide</td>\n",
       "      <td>vlq5on</td>\n",
       "      <td>depression</td>\n",
       "      <td>so basically i just ingested 5000mg of paracet...</td>\n",
       "      <td>depressed</td>\n",
       "    </tr>\n",
       "  </tbody>\n",
       "</table>\n",
       "<p>971 rows × 5 columns</p>\n",
       "</div>"
      ],
      "text/plain": [
       "                                                 title      id   subreddit  \\\n",
       "0    Our most-broken and least-understood rules is ...  doqwow  depression   \n",
       "1    Regular check-in post, with information about ...  tc5fpx  depression   \n",
       "2                        I'm so tired of the yo-yoing.  vo5xgm  depression   \n",
       "3                                          Im not dead  vo9tod  depression   \n",
       "4    RANT / With some people you just should never ...  voc327  depression   \n",
       "..                                                 ...     ...         ...   \n",
       "966                          alcoholic now shits crazy  vm6st4  depression   \n",
       "967                                  I'm just so tired  vlqpe7  depression   \n",
       "968                                   My life is over.  vm1ze7  depression   \n",
       "969                                           I’m numb  vm1z1e  depression   \n",
       "970                                       TW: sewicide  vlq5on  depression   \n",
       "\n",
       "                                                  body      class  \n",
       "0    We understand that most people who reply immed...  depressed  \n",
       "1    Welcome to /r/depression's check-in post - a p...  depressed  \n",
       "2    I wish getting better was easier. My god. I ha...  depressed  \n",
       "3    So a few days ago i made a super dramatic post...  depressed  \n",
       "4    I suppose many here will relate. I am severly ...  depressed  \n",
       "..                                                 ...        ...  \n",
       "966  I'm an alcoholic now I guess! I haven't been s...  depressed  \n",
       "967  Woke up and all I can do is cry. I'm dealing w...  depressed  \n",
       "968                      failed school y'all. kill me.  depressed  \n",
       "969  About 36 hours ago I realized my mom doesn’t l...  depressed  \n",
       "970  so basically i just ingested 5000mg of paracet...  depressed  \n",
       "\n",
       "[971 rows x 5 columns]"
      ]
     },
     "execution_count": 32,
     "metadata": {},
     "output_type": "execute_result"
    }
   ],
   "source": [
    "df"
   ]
  }
 ],
 "metadata": {
  "kernelspec": {
   "display_name": "Python 3.8.10 64-bit",
   "language": "python",
   "name": "python3"
  },
  "language_info": {
   "codemirror_mode": {
    "name": "ipython",
    "version": 3
   },
   "file_extension": ".py",
   "mimetype": "text/x-python",
   "name": "python",
   "nbconvert_exporter": "python",
   "pygments_lexer": "ipython3",
   "version": "3.8.10"
  },
  "orig_nbformat": 4,
  "vscode": {
   "interpreter": {
    "hash": "916dbcbb3f70747c44a77c7bcd40155683ae19c65e1c03b4aa3499c5328201f1"
   }
  }
 },
 "nbformat": 4,
 "nbformat_minor": 2
}
